{
 "cells": [
  {
   "cell_type": "code",
   "execution_count": 2,
   "id": "dc78892a",
   "metadata": {},
   "outputs": [
    {
     "name": "stdout",
     "output_type": "stream",
     "text": [
      "Requirement already satisfied: python-dotenv in c:\\programdata\\anaconda3\\lib\\site-packages (0.21.0)\n",
      "Requirement already satisfied: gradio in c:\\users\\hp\\appdata\\roaming\\python\\python312\\site-packages (5.47.0)\n",
      "Requirement already satisfied: groq in c:\\users\\hp\\appdata\\roaming\\python\\python312\\site-packages (0.31.1)\n",
      "Requirement already satisfied: aiofiles<25.0,>=22.0 in c:\\users\\hp\\appdata\\roaming\\python\\python312\\site-packages (from gradio) (24.1.0)\n",
      "Requirement already satisfied: anyio<5.0,>=3.0 in c:\\programdata\\anaconda3\\lib\\site-packages (from gradio) (4.2.0)\n",
      "Requirement already satisfied: brotli>=1.1.0 in c:\\users\\hp\\appdata\\roaming\\python\\python312\\site-packages (from gradio) (1.1.0)\n",
      "Requirement already satisfied: fastapi<1.0,>=0.115.2 in c:\\users\\hp\\appdata\\roaming\\python\\python312\\site-packages (from gradio) (0.117.1)\n",
      "Requirement already satisfied: ffmpy in c:\\users\\hp\\appdata\\roaming\\python\\python312\\site-packages (from gradio) (0.6.1)\n",
      "Requirement already satisfied: gradio-client==1.13.2 in c:\\users\\hp\\appdata\\roaming\\python\\python312\\site-packages (from gradio) (1.13.2)\n",
      "Requirement already satisfied: groovy~=0.1 in c:\\users\\hp\\appdata\\roaming\\python\\python312\\site-packages (from gradio) (0.1.2)\n",
      "Requirement already satisfied: httpx<1.0,>=0.24.1 in c:\\programdata\\anaconda3\\lib\\site-packages (from gradio) (0.27.0)\n",
      "Requirement already satisfied: huggingface-hub<1.0,>=0.33.5 in c:\\users\\hp\\appdata\\roaming\\python\\python312\\site-packages (from gradio) (0.35.0)\n",
      "Requirement already satisfied: jinja2<4.0 in c:\\programdata\\anaconda3\\lib\\site-packages (from gradio) (3.1.4)\n",
      "Requirement already satisfied: markupsafe<4.0,>=2.0 in c:\\programdata\\anaconda3\\lib\\site-packages (from gradio) (2.1.3)\n",
      "Requirement already satisfied: numpy<3.0,>=1.0 in c:\\users\\hp\\appdata\\roaming\\python\\python312\\site-packages (from gradio) (1.26.4)\n",
      "Requirement already satisfied: orjson~=3.0 in c:\\users\\hp\\appdata\\roaming\\python\\python312\\site-packages (from gradio) (3.11.3)\n",
      "Requirement already satisfied: packaging in c:\\programdata\\anaconda3\\lib\\site-packages (from gradio) (24.1)\n",
      "Requirement already satisfied: pandas<3.0,>=1.0 in c:\\programdata\\anaconda3\\lib\\site-packages (from gradio) (2.2.2)\n",
      "Requirement already satisfied: pillow<12.0,>=8.0 in c:\\programdata\\anaconda3\\lib\\site-packages (from gradio) (10.4.0)\n",
      "Requirement already satisfied: pydantic<2.12,>=2.0 in c:\\programdata\\anaconda3\\lib\\site-packages (from gradio) (2.8.2)\n",
      "Requirement already satisfied: pydub in c:\\users\\hp\\appdata\\roaming\\python\\python312\\site-packages (from gradio) (0.25.1)\n",
      "Requirement already satisfied: python-multipart>=0.0.18 in c:\\users\\hp\\appdata\\roaming\\python\\python312\\site-packages (from gradio) (0.0.20)\n",
      "Requirement already satisfied: pyyaml<7.0,>=5.0 in c:\\programdata\\anaconda3\\lib\\site-packages (from gradio) (6.0.1)\n",
      "Requirement already satisfied: ruff>=0.9.3 in c:\\users\\hp\\appdata\\roaming\\python\\python312\\site-packages (from gradio) (0.13.1)\n",
      "Requirement already satisfied: safehttpx<0.2.0,>=0.1.6 in c:\\users\\hp\\appdata\\roaming\\python\\python312\\site-packages (from gradio) (0.1.6)\n",
      "Requirement already satisfied: semantic-version~=2.0 in c:\\users\\hp\\appdata\\roaming\\python\\python312\\site-packages (from gradio) (2.10.0)\n",
      "Requirement already satisfied: starlette<1.0,>=0.40.0 in c:\\users\\hp\\appdata\\roaming\\python\\python312\\site-packages (from gradio) (0.48.0)\n",
      "Requirement already satisfied: tomlkit<0.14.0,>=0.12.0 in c:\\users\\hp\\appdata\\roaming\\python\\python312\\site-packages (from gradio) (0.13.3)\n",
      "Requirement already satisfied: typer<1.0,>=0.12 in c:\\users\\hp\\appdata\\roaming\\python\\python312\\site-packages (from gradio) (0.17.4)\n",
      "Requirement already satisfied: typing-extensions~=4.0 in c:\\users\\hp\\appdata\\roaming\\python\\python312\\site-packages (from gradio) (4.15.0)\n",
      "Requirement already satisfied: uvicorn>=0.14.0 in c:\\users\\hp\\appdata\\roaming\\python\\python312\\site-packages (from gradio) (0.35.0)\n",
      "Requirement already satisfied: fsspec in c:\\programdata\\anaconda3\\lib\\site-packages (from gradio-client==1.13.2->gradio) (2024.6.1)\n",
      "Requirement already satisfied: websockets<16.0,>=13.0 in c:\\users\\hp\\appdata\\roaming\\python\\python312\\site-packages (from gradio-client==1.13.2->gradio) (15.0.1)\n",
      "Requirement already satisfied: distro<2,>=1.7.0 in c:\\programdata\\anaconda3\\lib\\site-packages (from groq) (1.9.0)\n",
      "Requirement already satisfied: sniffio in c:\\programdata\\anaconda3\\lib\\site-packages (from groq) (1.3.0)\n",
      "Requirement already satisfied: idna>=2.8 in c:\\programdata\\anaconda3\\lib\\site-packages (from anyio<5.0,>=3.0->gradio) (3.7)\n",
      "Requirement already satisfied: certifi in c:\\programdata\\anaconda3\\lib\\site-packages (from httpx<1.0,>=0.24.1->gradio) (2025.8.3)\n",
      "Requirement already satisfied: httpcore==1.* in c:\\programdata\\anaconda3\\lib\\site-packages (from httpx<1.0,>=0.24.1->gradio) (1.0.2)\n",
      "Requirement already satisfied: h11<0.15,>=0.13 in c:\\programdata\\anaconda3\\lib\\site-packages (from httpcore==1.*->httpx<1.0,>=0.24.1->gradio) (0.14.0)\n",
      "Requirement already satisfied: filelock in c:\\programdata\\anaconda3\\lib\\site-packages (from huggingface-hub<1.0,>=0.33.5->gradio) (3.13.1)\n",
      "Requirement already satisfied: requests in c:\\users\\hp\\appdata\\roaming\\python\\python312\\site-packages (from huggingface-hub<1.0,>=0.33.5->gradio) (2.32.5)\n",
      "Requirement already satisfied: tqdm>=4.42.1 in c:\\programdata\\anaconda3\\lib\\site-packages (from huggingface-hub<1.0,>=0.33.5->gradio) (4.66.5)\n",
      "Requirement already satisfied: python-dateutil>=2.8.2 in c:\\programdata\\anaconda3\\lib\\site-packages (from pandas<3.0,>=1.0->gradio) (2.9.0.post0)\n",
      "Requirement already satisfied: pytz>=2020.1 in c:\\programdata\\anaconda3\\lib\\site-packages (from pandas<3.0,>=1.0->gradio) (2024.1)\n",
      "Requirement already satisfied: tzdata>=2022.7 in c:\\programdata\\anaconda3\\lib\\site-packages (from pandas<3.0,>=1.0->gradio) (2023.3)\n",
      "Requirement already satisfied: annotated-types>=0.4.0 in c:\\programdata\\anaconda3\\lib\\site-packages (from pydantic<2.12,>=2.0->gradio) (0.6.0)\n",
      "Requirement already satisfied: pydantic-core==2.20.1 in c:\\programdata\\anaconda3\\lib\\site-packages (from pydantic<2.12,>=2.0->gradio) (2.20.1)\n",
      "Requirement already satisfied: click>=8.0.0 in c:\\programdata\\anaconda3\\lib\\site-packages (from typer<1.0,>=0.12->gradio) (8.1.7)\n",
      "Requirement already satisfied: shellingham>=1.3.0 in c:\\users\\hp\\appdata\\roaming\\python\\python312\\site-packages (from typer<1.0,>=0.12->gradio) (1.5.4)\n",
      "Requirement already satisfied: rich>=10.11.0 in c:\\programdata\\anaconda3\\lib\\site-packages (from typer<1.0,>=0.12->gradio) (13.7.1)\n",
      "Requirement already satisfied: colorama in c:\\programdata\\anaconda3\\lib\\site-packages (from click>=8.0.0->typer<1.0,>=0.12->gradio) (0.4.6)\n",
      "Requirement already satisfied: six>=1.5 in c:\\programdata\\anaconda3\\lib\\site-packages (from python-dateutil>=2.8.2->pandas<3.0,>=1.0->gradio) (1.16.0)\n",
      "Requirement already satisfied: markdown-it-py>=2.2.0 in c:\\programdata\\anaconda3\\lib\\site-packages (from rich>=10.11.0->typer<1.0,>=0.12->gradio) (2.2.0)\n",
      "Requirement already satisfied: pygments<3.0.0,>=2.13.0 in c:\\programdata\\anaconda3\\lib\\site-packages (from rich>=10.11.0->typer<1.0,>=0.12->gradio) (2.15.1)\n",
      "Requirement already satisfied: charset_normalizer<4,>=2 in c:\\programdata\\anaconda3\\lib\\site-packages (from requests->huggingface-hub<1.0,>=0.33.5->gradio) (3.3.2)\n",
      "Requirement already satisfied: urllib3<3,>=1.21.1 in c:\\programdata\\anaconda3\\lib\\site-packages (from requests->huggingface-hub<1.0,>=0.33.5->gradio) (2.2.3)\n",
      "Requirement already satisfied: mdurl~=0.1 in c:\\programdata\\anaconda3\\lib\\site-packages (from markdown-it-py>=2.2.0->rich>=10.11.0->typer<1.0,>=0.12->gradio) (0.1.0)\n"
     ]
    }
   ],
   "source": [
    "!pip install python-dotenv gradio groq"
   ]
  },
  {
   "cell_type": "code",
   "execution_count": 18,
   "id": "5afb1356",
   "metadata": {},
   "outputs": [],
   "source": [
    "# importing libraries\n",
    "import os\n",
    "from dotenv import load_dotenv\n",
    "from groq import Groq\n",
    "import gradio as gr\n",
    "import json"
   ]
  },
  {
   "cell_type": "code",
   "execution_count": 19,
   "id": "5c2713ef",
   "metadata": {},
   "outputs": [],
   "source": [
    "# environment variables\n",
    "load_dotenv()\n",
    "\n",
    "GROQ_API_KEY = os.getenv(\"GROQ_API_KEY\")\n",
    "\n",
    "# initialize Groq client\n",
    "client = Groq(api_key=GROQ_API_KEY)"
   ]
  },
  {
   "cell_type": "code",
   "execution_count": 26,
   "id": "4c9533d7",
   "metadata": {},
   "outputs": [],
   "source": [
    "\n",
    "# Categories and keywords\n",
    "keywords = {\n",
    "    \"Billing\": [\"payment\", \"invoice\", \"bill\", \"charge\"],\n",
    "    \"Technical Support\": [\"error\", \"problem\", \"not working\", \"issue\", \"crash\"],\n",
    "    \"General Inquiry\": [\"hours\", \"location\", \"contact\"]\n",
    "}\n",
    "\n",
    "responses = {\n",
    "    \"Billing\": \"For billing questions, please check your account settings or contact billing support.\",\n",
    "    \"Technical Support\": \"Please try restarting your device. If the problem persists, contact technical support.\",\n",
    "    \"General Inquiry\": \"Our business hours are 9 AM to 5 PM, Monday to Friday.\",\n",
    "    \"Unknown\": \"I'm not sure I understand. Could you please rephrase your question?\"\n",
    "}\n",
    "\n",
    "escalation_keywords = [\"angry\", \"frustrated\", \"not happy\", \"upset\", \"annoyed\"]"
   ]
  },
  {
   "cell_type": "code",
   "execution_count": 27,
   "id": "c95328be",
   "metadata": {},
   "outputs": [],
   "source": [
    "# keyword classification function\n",
    "def classify_keyword(question):\n",
    "    question_lower = question.lower()\n",
    "    scores = {cat: sum(kw in question_lower for kw in kw_list) for cat, kw_list in keywords.items()}\n",
    "    best = max(scores, key=scores.get)\n",
    "    return best if scores[best] > 0 else \"Unknown\", scores"
   ]
  },
  {
   "cell_type": "code",
   "execution_count": 28,
   "id": "8e12780c",
   "metadata": {},
   "outputs": [],
   "source": [
    "# Escalation detection function\n",
    "def detect_escalation(question):\n",
    "    for word in question.lower().split():\n",
    "        if word in escalation_keywords:\n",
    "            return True, word\n",
    "    return False, None"
   ]
  },
  {
   "cell_type": "code",
   "execution_count": 35,
   "id": "d1f3507c",
   "metadata": {},
   "outputs": [],
   "source": [
    "# LLM classifier function\n",
    "def llm_classify(question):\n",
    "    prompt = f\"\"\"\n",
    "    You are a helpful assistant that classifies customer support queries into these categories:\n",
    "    Billing, Technical Support, General Inquiry.\n",
    "\n",
    "    Return a JSON object with keys: category and reason.\n",
    "    Question: \"{question}\"\n",
    "    Respond only with JSON.\n",
    "    \"\"\"\n",
    "    try:\n",
    "        response = client.chat.completions.create(\n",
    "            model=\"moonshotai/kimi-k2-instruct-0905\",\n",
    "            messages=[\n",
    "                {\"role\": \"system\", \"content\": \"You classify support queries into Billing / Technical Support / General Inquiry.\"},\n",
    "                {\"role\": \"user\", \"content\": prompt}\n",
    "            ],\n",
    "            temperature=0\n",
    "        )\n",
    "        text = response.choices[0].message.content.strip()\n",
    "        return json.loads(text)\n",
    "    except Exception as e:\n",
    "        print(\"LLM classification failed:\", str(e))\n",
    "        return None\n"
   ]
  },
  {
   "cell_type": "code",
   "execution_count": 30,
   "id": "a984c5be",
   "metadata": {},
   "outputs": [],
   "source": [
    "def handle_input(question):\n",
    "    category, scores = classify_keyword(question)\n",
    "    source = \"Keyword\"\n",
    "\n",
    "    if category == \"Unknown\":\n",
    "        llm_result = llm_classify(question)\n",
    "        if llm_result and 'category' in llm_result:\n",
    "            category = llm_result['category']\n",
    "            source = \"LLM\"\n",
    "\n",
    "    response = responses.get(category, responses[\"Unknown\"])\n",
    "    escalate, kw = detect_escalation(question)\n",
    "    escalate_msg = f\"Escalation suggested (detected '{kw}')\" if escalate else \"\"\n",
    "\n",
    "    return {\n",
    "        \"question\": question,\n",
    "        \"category\": category,\n",
    "        \"source\": source,\n",
    "        \"response\": response,\n",
    "        \"escalation_msg\": escalate_msg\n",
    "    }\n"
   ]
  },
  {
   "cell_type": "code",
   "execution_count": 37,
   "id": "b1713e3b",
   "metadata": {},
   "outputs": [
    {
     "name": "stdout",
     "output_type": "stream",
     "text": [
      "* Running on local URL:  http://127.0.0.1:7869\n",
      "* Running on public URL: https://012d94af8e9be076cf.gradio.live\n",
      "\n",
      "This share link expires in 1 week. For free permanent hosting and GPU upgrades, run `gradio deploy` from the terminal in the working directory to deploy to Hugging Face Spaces (https://huggingface.co/spaces)\n"
     ]
    },
    {
     "data": {
      "text/html": [
       "<div><iframe src=\"https://012d94af8e9be076cf.gradio.live\" width=\"100%\" height=\"500\" allow=\"autoplay; camera; microphone; clipboard-read; clipboard-write;\" frameborder=\"0\" allowfullscreen></iframe></div>"
      ],
      "text/plain": [
       "<IPython.core.display.HTML object>"
      ]
     },
     "metadata": {},
     "output_type": "display_data"
    },
    {
     "data": {
      "text/plain": []
     },
     "execution_count": 37,
     "metadata": {},
     "output_type": "execute_result"
    },
    {
     "name": "stderr",
     "output_type": "stream",
     "text": [
      "C:\\Users\\hp\\AppData\\Roaming\\Python\\Python312\\site-packages\\gradio\\blocks.py:1816: UserWarning: A function (gradio_handler) returned too many output values (needed: 3, returned: 4). Ignoring extra values.\n",
      "    Output components:\n",
      "        [textbox, textbox, textbox]\n",
      "    Output values returned:\n",
      "        [\"Technical Support\", \"Please try restarting your device. If the problem persists, contact technical support.\", \"LLM\", \"\"]\n",
      "  warnings.warn(\n"
     ]
    }
   ],
   "source": [
    "# Gradio interface\n",
    "def gradio_handler(question):\n",
    "    result = handle_input(question)\n",
    "    return result[\"category\"], result[\"response\"], result[\"source\"], result[\"escalation_msg\"]\n",
    "\n",
    "gr.Interface(\n",
    "    fn=gradio_handler,\n",
    "    inputs=[gr.Textbox(lines=2, label=\"Customer Question\", placeholder=\"Enter your question here...\")],\n",
    "    outputs=[\n",
    "        gr.Textbox(label=\"Category\"),\n",
    "        gr.Textbox(label=\"Response\"),\n",
    "        gr.Textbox(label=\"Classification Method\"),\n",
    "        # gr.Textbox(label=\"Escalation Note\")\n",
    "    ],\n",
    "    title=\"CUSTOMER SUPPORT CHATBOT\",\n",
    "    description=\"Handles Billing, Technical Support, or General Inquiry.\"\n",
    ").launch(share=True)\n"
   ]
  }
 ],
 "metadata": {
  "kernelspec": {
   "display_name": "base",
   "language": "python",
   "name": "python3"
  },
  "language_info": {
   "codemirror_mode": {
    "name": "ipython",
    "version": 3
   },
   "file_extension": ".py",
   "mimetype": "text/x-python",
   "name": "python",
   "nbconvert_exporter": "python",
   "pygments_lexer": "ipython3",
   "version": "3.12.7"
  }
 },
 "nbformat": 4,
 "nbformat_minor": 5
}
